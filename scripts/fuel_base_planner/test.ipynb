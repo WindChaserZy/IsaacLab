{
 "cells": [
  {
   "cell_type": "code",
   "execution_count": 3,
   "metadata": {},
   "outputs": [
    {
     "name": "stdout",
     "output_type": "stream",
     "text": [
      "[False  True  True  True  True False False  True  True  True  True  True\n",
      "  True  True  True False False False  True False  True False  True False\n",
      "  True  True False  True False False  True  True  True  True  True  True\n",
      "  True False  True False False False False False  True  True False False\n",
      "  True False  True  True  True False False False  True False  True False\n",
      "  True False  True False False False False False False False False False\n",
      "  True  True  True  True  True  True  True False False  True False False\n",
      "  True  True  True  True False False False False  True False False False\n",
      "  True False False False]\n",
      "Split 1 shape: (50, 3)\n",
      "Split 2 shape: (50, 3)\n"
     ]
    }
   ],
   "source": [
    "import numpy as np\n",
    "\n",
    "def pca_split(points):\n",
    "    \"\"\"\n",
    "    对点集进行 PCA，并沿主成分方向将点集分为两份。\n",
    "\n",
    "    :param points: 点集，形状为 (n_samples, n_features)\n",
    "    :return: 两个点集，分别为主成分方向两侧的点\n",
    "    \"\"\"\n",
    "    # 1. 中心化点集\n",
    "    mean = np.mean(points, axis=0)\n",
    "    centered_points = points - mean\n",
    "\n",
    "    # 2. 计算协方差矩阵\n",
    "    cov_matrix = np.cov(centered_points, rowvar=False)\n",
    "\n",
    "    # 3. 计算特征值和特征向量\n",
    "    eigenvalues, eigenvectors = np.linalg.eig(cov_matrix)\n",
    "\n",
    "    # 4. 选择主成分方向（最大特征值对应的特征向量）\n",
    "    principal_component = eigenvectors[:, np.argmax(eigenvalues)]\n",
    "\n",
    "    # 5. 将点集投影到主成分方向上\n",
    "    projections = np.dot(centered_points, principal_component)\n",
    "\n",
    "    # 6. 根据投影值将点集分为两部分\n",
    "    median_projection = np.median(projections)\n",
    "    mask = projections < median_projection\n",
    "\n",
    "    print(mask)\n",
    "\n",
    "    # 返回分割后的两个点集\n",
    "    return points[mask], points[~mask]\n",
    "\n",
    "# 示例使用\n",
    "if __name__ == \"__main__\":\n",
    "    # 生成一个示例点集\n",
    "    np.random.seed(42)\n",
    "    points = np.random.randn(100, 3)  # 100 个 3D 点\n",
    "\n",
    "    # 调用 PCA 分割函数\n",
    "    split1, split2 = pca_split(points)\n",
    "\n",
    "    # 打印结果\n",
    "    print(\"Split 1 shape:\", split1.shape)\n",
    "    print(\"Split 2 shape:\", split2.shape)"
   ]
  }
 ],
 "metadata": {
  "kernelspec": {
   "display_name": "3dgs",
   "language": "python",
   "name": "python3"
  },
  "language_info": {
   "codemirror_mode": {
    "name": "ipython",
    "version": 3
   },
   "file_extension": ".py",
   "mimetype": "text/x-python",
   "name": "python",
   "nbconvert_exporter": "python",
   "pygments_lexer": "ipython3",
   "version": "3.10.13"
  },
  "orig_nbformat": 4,
  "vscode": {
   "interpreter": {
    "hash": "50d2fd454630066b6615b05a6383746ca750296d6cf2dd2704bf658f492ceb88"
   }
  }
 },
 "nbformat": 4,
 "nbformat_minor": 2
}
